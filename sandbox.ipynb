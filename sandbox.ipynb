{
 "cells": [
  {
   "cell_type": "code",
   "execution_count": null,
   "id": "626b7f26",
   "metadata": {},
   "outputs": [],
   "source": [
    "import exifread as ex\n",
    "import folium\n",
    "import geopandas as gpd\n",
    "import pandas as pd\n",
    "import matplotlib.pyplot as plt\n",
    "import mapclassify as mcl\n",
    "from PIL import Image"
   ]
  },
  {
   "cell_type": "code",
   "execution_count": null,
   "id": "958ac56c",
   "metadata": {},
   "outputs": [],
   "source": [
    "with open('testimg.jpg', 'rb') as file_handle:\n",
    "    tags = ex.process_file(file_handle)\n",
    "df = pd.DataFrame([tags])\n",
    "df"
   ]
  },
  {
   "cell_type": "code",
   "execution_count": null,
   "id": "87eebc1c",
   "metadata": {},
   "outputs": [],
   "source": [
    "df['EXIF DateTimeDigitized']"
   ]
  },
  {
   "cell_type": "code",
   "execution_count": null,
   "id": "e809fe46",
   "metadata": {},
   "outputs": [],
   "source": [
    "rawlat = df['GPS GPSLatitude']\n",
    "rawlat #degrees, minutes, seconds"
   ]
  },
  {
   "cell_type": "code",
   "execution_count": null,
   "id": "78b528cb",
   "metadata": {},
   "outputs": [],
   "source": [
    "long = df['GPS GPSLongitude']\n",
    "long #degrees, minutes, seconds"
   ]
  },
  {
   "cell_type": "code",
   "execution_count": null,
   "id": "a683d485",
   "metadata": {},
   "outputs": [],
   "source": [
    "long_ref = df['GPS GPSLongitudeRef']\n",
    "long_ref"
   ]
  },
  {
   "cell_type": "code",
   "execution_count": null,
   "id": "a05c3096",
   "metadata": {},
   "outputs": [],
   "source": [
    "import read\n",
    "\n",
    "coords = read.get_exif_data('testimg.jpg')\n",
    "folium.Map(location=coords)\n"
   ]
  }
 ],
 "metadata": {
  "kernelspec": {
   "display_name": "Python 3.12",
   "language": "python",
   "name": "py312"
  },
  "language_info": {
   "codemirror_mode": {
    "name": "ipython",
    "version": 3
   },
   "file_extension": ".py",
   "mimetype": "text/x-python",
   "name": "python",
   "nbconvert_exporter": "python",
   "pygments_lexer": "ipython3",
   "version": "3.12.0"
  }
 },
 "nbformat": 4,
 "nbformat_minor": 5
}
