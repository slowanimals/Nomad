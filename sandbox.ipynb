{
 "cells": [
  {
   "cell_type": "code",
   "execution_count": null,
   "id": "626b7f26",
   "metadata": {},
   "outputs": [
    {
     "name": "stdout",
     "output_type": "stream",
     "text": [
      "[('IMG_5090.JPG', {'location': [57.04858333333333, -135.32090833333334], 'time': '2025:07:16 10:52:30'}), ('IMG_5110.JPG', {'location': [57.051316666666665, -135.3328861111111], 'time': '2025:07:16 13:32:50'}), ('IMG_5194.JPG', {'location': [59.56531111111111, -135.1772611111111], 'time': '2025:07:17 13:45:22'}), ('IMG_5221.JPG', {'location': [59.6372, -135.13285833333333], 'time': '2025:07:17 15:23:06'}), ('IMG_5317.JPG', {'location': [58.41871944444444, -134.9272472222222], 'time': '2025:07:18 18:13:36'})]\n"
     ]
    }
   ],
   "source": [
    "import exifread as ex\n",
    "import folium\n",
    "import geopandas as gpd\n",
    "import pandas as pd\n",
    "import mapclassify as mcl\n",
    "from PIL import Image\n",
    "import read\n",
    "import render"
   ]
  },
  {
   "cell_type": "markdown",
   "id": "edbfb536",
   "metadata": {},
   "source": [
    "## **Exifread**"
   ]
  },
  {
   "cell_type": "code",
   "execution_count": 11,
   "id": "958ac56c",
   "metadata": {},
   "outputs": [
    {
     "data": {
      "text/html": [
       "<div>\n",
       "<style scoped>\n",
       "    .dataframe tbody tr th:only-of-type {\n",
       "        vertical-align: middle;\n",
       "    }\n",
       "\n",
       "    .dataframe tbody tr th {\n",
       "        vertical-align: top;\n",
       "    }\n",
       "\n",
       "    .dataframe thead th {\n",
       "        text-align: right;\n",
       "    }\n",
       "</style>\n",
       "<table border=\"1\" class=\"dataframe\">\n",
       "  <thead>\n",
       "    <tr style=\"text-align: right;\">\n",
       "      <th></th>\n",
       "      <th>Image Make</th>\n",
       "      <th>Image Model</th>\n",
       "      <th>Image Orientation</th>\n",
       "      <th>Image XResolution</th>\n",
       "      <th>Image YResolution</th>\n",
       "      <th>Image ResolutionUnit</th>\n",
       "      <th>Image Software</th>\n",
       "      <th>Image DateTime</th>\n",
       "      <th>Image HostComputer</th>\n",
       "      <th>Image YCbCrPositioning</th>\n",
       "      <th>...</th>\n",
       "      <th>MakerNote Tag 0x0046</th>\n",
       "      <th>MakerNote Tag 0x004A</th>\n",
       "      <th>MakerNote Tag 0x004D</th>\n",
       "      <th>MakerNote Tag 0x004E</th>\n",
       "      <th>MakerNote Tag 0x004F</th>\n",
       "      <th>MakerNote Tag 0x0052</th>\n",
       "      <th>MakerNote Tag 0x0053</th>\n",
       "      <th>MakerNote Tag 0x0055</th>\n",
       "      <th>MakerNote Tag 0x0058</th>\n",
       "      <th>JPEGThumbnail</th>\n",
       "    </tr>\n",
       "  </thead>\n",
       "  <tbody>\n",
       "    <tr>\n",
       "      <th>0</th>\n",
       "      <td>Apple</td>\n",
       "      <td>iPhone 15</td>\n",
       "      <td>Horizontal (normal)</td>\n",
       "      <td>72</td>\n",
       "      <td>72</td>\n",
       "      <td>Pixels/Inch</td>\n",
       "      <td>18.3.2</td>\n",
       "      <td>2025:07:16 10:52:30</td>\n",
       "      <td>iPhone 15</td>\n",
       "      <td>Centered</td>\n",
       "      <td>...</td>\n",
       "      <td>0</td>\n",
       "      <td>2</td>\n",
       "      <td>808505857/33752145</td>\n",
       "      <td>[49, 81, 50, 16, 3, 162, 5, 10, 210, 6, 7, 8, ...</td>\n",
       "      <td>[0, 0, 0, 1, 1, 0, 0, 0, 0, 0, 0, 0, 1, 0, 0, ...</td>\n",
       "      <td>0</td>\n",
       "      <td>2</td>\n",
       "      <td>213</td>\n",
       "      <td>2308</td>\n",
       "      <td>b'\\xff\\xd8\\xff\\xdb\\x00\\x84\\x00\\x01\\x01\\x01\\x01...</td>\n",
       "    </tr>\n",
       "  </tbody>\n",
       "</table>\n",
       "<p>1 rows × 117 columns</p>\n",
       "</div>"
      ],
      "text/plain": [
       "  Image Make Image Model    Image Orientation Image XResolution  \\\n",
       "0      Apple   iPhone 15  Horizontal (normal)                72   \n",
       "\n",
       "  Image YResolution Image ResolutionUnit Image Software       Image DateTime  \\\n",
       "0                72          Pixels/Inch         18.3.2  2025:07:16 10:52:30   \n",
       "\n",
       "  Image HostComputer Image YCbCrPositioning  ... MakerNote Tag 0x0046  \\\n",
       "0          iPhone 15               Centered  ...                    0   \n",
       "\n",
       "  MakerNote Tag 0x004A MakerNote Tag 0x004D  \\\n",
       "0                    2   808505857/33752145   \n",
       "\n",
       "                                MakerNote Tag 0x004E  \\\n",
       "0  [49, 81, 50, 16, 3, 162, 5, 10, 210, 6, 7, 8, ...   \n",
       "\n",
       "                                MakerNote Tag 0x004F MakerNote Tag 0x0052  \\\n",
       "0  [0, 0, 0, 1, 1, 0, 0, 0, 0, 0, 0, 0, 1, 0, 0, ...                    0   \n",
       "\n",
       "  MakerNote Tag 0x0053 MakerNote Tag 0x0055 MakerNote Tag 0x0058  \\\n",
       "0                    2                  213                 2308   \n",
       "\n",
       "                                       JPEGThumbnail  \n",
       "0  b'\\xff\\xd8\\xff\\xdb\\x00\\x84\\x00\\x01\\x01\\x01\\x01...  \n",
       "\n",
       "[1 rows x 117 columns]"
      ]
     },
     "execution_count": 11,
     "metadata": {},
     "output_type": "execute_result"
    }
   ],
   "source": [
    "with open('images/img_5090.jpg', 'rb') as file_handle:\n",
    "    tags = ex.process_file(file_handle)\n",
    "df = pd.DataFrame([tags])\n",
    "df"
   ]
  },
  {
   "cell_type": "code",
   "execution_count": 17,
   "id": "87eebc1c",
   "metadata": {},
   "outputs": [
    {
     "name": "stdout",
     "output_type": "stream",
     "text": [
      "IMG_5090.JPG [57.04858333333333, -135.32090833333334] 2025:07:16 10:52:30\n",
      "IMG_5110.JPG [57.051316666666665, -135.3328861111111] 2025:07:16 13:32:50\n",
      "IMG_5194.JPG [59.56531111111111, -135.1772611111111] 2025:07:17 13:45:22\n",
      "IMG_5221.JPG [59.6372, -135.13285833333333] 2025:07:17 15:23:06\n",
      "IMG_5317.JPG [58.41871944444444, -134.9272472222222] 2025:07:18 18:13:36\n"
     ]
    }
   ],
   "source": [
    "new_df = read.get_exif_data('images')\n",
    "new_df\n",
    "\n",
    "for filename, meta in new_df:\n",
    "    location = meta['location']\n",
    "    time = meta['time']\n",
    "    print(filename, location, time)\n"
   ]
  },
  {
   "cell_type": "code",
   "execution_count": null,
   "id": "e809fe46",
   "metadata": {},
   "outputs": [],
   "source": [
    "rawlat = df['GPS GPSLatitude']\n",
    "rawlat #degrees, minutes, seconds"
   ]
  },
  {
   "cell_type": "code",
   "execution_count": null,
   "id": "78b528cb",
   "metadata": {},
   "outputs": [],
   "source": [
    "long = df['GPS GPSLongitude']\n",
    "long #degrees, minutes, seconds"
   ]
  },
  {
   "cell_type": "code",
   "execution_count": null,
   "id": "a683d485",
   "metadata": {},
   "outputs": [],
   "source": [
    "long_ref = df['GPS GPSLongitudeRef']\n",
    "long_ref"
   ]
  },
  {
   "cell_type": "markdown",
   "id": "5258b50e",
   "metadata": {},
   "source": [
    "## **Folium / Display**"
   ]
  },
  {
   "cell_type": "code",
   "execution_count": null,
   "id": "a05c3096",
   "metadata": {},
   "outputs": [],
   "source": [
    "import read\n",
    "from IPython.display import display\n",
    "\n",
    "coords = read.get_exif_data('images/')\n",
    "map = folium.Map(location=coords[0], zoom_start=6)\n",
    "\n",
    "for i in coords:\n",
    "    folium.Marker(\n",
    "    location = i,\n",
    "    tooltip='Click me!',\n",
    "    #popup='Mendenhall Glacier Pic',\n",
    "    icon = folium.Icon(color='red')\n",
    "    ).add_to(map)\n",
    "\n",
    "display(map)\n",
    "map.save('testmap2.html')"
   ]
  },
  {
   "cell_type": "markdown",
   "id": "d061e7c8",
   "metadata": {},
   "source": [
    "## **NetworkX (Graphs)**"
   ]
  },
  {
   "cell_type": "code",
   "execution_count": 1,
   "id": "28c2844c",
   "metadata": {},
   "outputs": [],
   "source": [
    "import networkx as nx\n",
    "import matplotlib.pyplot as plt\n",
    "import numpy as np\n"
   ]
  },
  {
   "cell_type": "code",
   "execution_count": 2,
   "id": "68e43992",
   "metadata": {},
   "outputs": [],
   "source": [
    "g = nx.Graph()\n",
    "d = nx.DiGraph()\n",
    "m = nx.MultiGraph()\n",
    "md = nx.MultiDiGraph()"
   ]
  },
  {
   "cell_type": "code",
   "execution_count": 3,
   "id": "773c0d80",
   "metadata": {},
   "outputs": [],
   "source": [
    "g.add_edge(1,2)\n",
    "g.add_edge(2,3, weight=3)\n",
    "g.add_edge('A','B')\n",
    "g.add_node('C')\n",
    "g.add_node(print)"
   ]
  },
  {
   "cell_type": "code",
   "execution_count": null,
   "id": "704517f4",
   "metadata": {},
   "outputs": [],
   "source": [
    "nx.draw_spring(g, with_labels=True)"
   ]
  },
  {
   "cell_type": "code",
   "execution_count": null,
   "id": "74be6f41",
   "metadata": {},
   "outputs": [],
   "source": [
    "edge_list = [(1,2),(2,3),(3,4),(3,5),(4,7),(6,7),(6,1)]\n",
    "l = nx.from_edgelist(edge_list)\n",
    "l.add_edges_from(edge_list) #either works \n",
    "\n",
    "nx.draw_spectral(l, with_labels=True)"
   ]
  },
  {
   "cell_type": "code",
   "execution_count": null,
   "id": "cf319dcd",
   "metadata": {},
   "outputs": [],
   "source": [
    "alex = [('A','L'),('L','E'),('E','X'),('A','X')]\n",
    "a = nx.from_edgelist(alex)\n",
    "#nx.draw_spring(a,with_labels=True)\n",
    "#nx.draw_circular(a,with_labels=True)\n",
    "#nx.draw_shell(a,with_labels=True)\n",
    "#nx.draw_random(a,with_labels=True)\n",
    "nx.draw_planar(a,with_labels=True)"
   ]
  },
  {
   "cell_type": "code",
   "execution_count": null,
   "id": "f8427a06",
   "metadata": {},
   "outputs": [],
   "source": [
    "G = nx.complete_graph(12)\n",
    "G.remove_edge(3,0)\n",
    "nx.draw_circular(G, with_labels=True)"
   ]
  },
  {
   "cell_type": "code",
   "execution_count": 100,
   "id": "dea10f68",
   "metadata": {},
   "outputs": [
    {
     "data": {
      "text/plain": [
       "11"
      ]
     },
     "execution_count": 100,
     "metadata": {},
     "output_type": "execute_result"
    }
   ],
   "source": [
    "dict(G.degree)[2]"
   ]
  },
  {
   "cell_type": "code",
   "execution_count": null,
   "id": "f321e051",
   "metadata": {},
   "outputs": [
    {
     "data": {
      "text/plain": [
       "2"
      ]
     },
     "execution_count": 101,
     "metadata": {},
     "output_type": "execute_result"
    }
   ],
   "source": [
    "nx.shortest_path_length(G,3,0)"
   ]
  },
  {
   "cell_type": "markdown",
   "id": "1eb05ab1",
   "metadata": {},
   "source": [
    "## **OSMnx**"
   ]
  },
  {
   "cell_type": "code",
   "execution_count": 241,
   "id": "618427ef",
   "metadata": {},
   "outputs": [
    {
     "name": "stdout",
     "output_type": "stream",
     "text": [
      "n: 59.610686111111114 \n",
      "s: 47.44328611111111 \n",
      "e: -122.30121666666666 \n",
      "w: -135.3348388888889\n"
     ]
    }
   ],
   "source": [
    "import osmnx as ox\n",
    "import render\n",
    "import read\n",
    "\n",
    "places = read.get_exif_data('alaska') #5087, 5100 are in sitka\n",
    "north = places[0][1]['location'][0]\n",
    "south = places[0][1]['location'][0]\n",
    "east = places[0][1]['location'][1]\n",
    "west = places[0][1]['location'][1]\n",
    "\n",
    "for filename, data in places:\n",
    "    north = max(data['location'][0],north)\n",
    "    south = min(data['location'][0], south)\n",
    "    east = max(data['location'][1], east)\n",
    "    west = min(data['location'][1], west)\n",
    "\n",
    "print(f'n: {north} \\ns: {south} \\ne: {east} \\nw: {west}')"
   ]
  },
  {
   "cell_type": "code",
   "execution_count": 242,
   "id": "dd420aeb",
   "metadata": {},
   "outputs": [],
   "source": [
    "G = ox.graph_from_place('sitka,alaska,usa')"
   ]
  },
  {
   "cell_type": "code",
   "execution_count": null,
   "id": "49ae9594",
   "metadata": {},
   "outputs": [],
   "source": [
    "ox.plot_graph(G, node_size = 1, edge_linewidth=1)"
   ]
  },
  {
   "cell_type": "code",
   "execution_count": null,
   "id": "cfd46c5b",
   "metadata": {},
   "outputs": [],
   "source": [
    "coord = [57.04575, -135.31665]\n",
    "P = ox.graph_from_point(center_point=coord, dist=1000, network_type='all')\n",
    "ox.plot_graph(P)"
   ]
  },
  {
   "cell_type": "code",
   "execution_count": 278,
   "id": "a5c16928",
   "metadata": {},
   "outputs": [
    {
     "name": "stdout",
     "output_type": "stream",
     "text": [
      "29823\n"
     ]
    }
   ],
   "source": [
    "print(len(G.nodes))"
   ]
  },
  {
   "cell_type": "code",
   "execution_count": 279,
   "id": "659a5186",
   "metadata": {},
   "outputs": [
    {
     "data": {
      "text/plain": [
       "[57.04864166666666, -135.3217611111111]"
      ]
     },
     "execution_count": 279,
     "metadata": {},
     "output_type": "execute_result"
    }
   ],
   "source": [
    "spot1 = places[2][1]['location']\n",
    "spot2 = places[4][1]['location']\n",
    "\n",
    "spot1"
   ]
  },
  {
   "cell_type": "code",
   "execution_count": 280,
   "id": "e0ecf64e",
   "metadata": {},
   "outputs": [],
   "source": [
    "spot1 = ox.nearest_nodes(G, spot1[1],spot1[0])\n",
    "spot2 = ox.nearest_nodes(G, spot2[1],spot2[0])"
   ]
  },
  {
   "cell_type": "code",
   "execution_count": 281,
   "id": "5dc10128",
   "metadata": {},
   "outputs": [
    {
     "name": "stdout",
     "output_type": "stream",
     "text": [
      "1 1 [(48.507147, -123.5033758)]\n"
     ]
    }
   ],
   "source": [
    "sp = ox.shortest_path(G, spot1, spot2, weight='length')\n",
    "path_coords = [(G.nodes[n]['y'], G.nodes[n]['x']) for n in sp]\n",
    "print(len(path_coords), len(sp), path_coords)"
   ]
  },
  {
   "cell_type": "code",
   "execution_count": 255,
   "id": "bcb78f51",
   "metadata": {},
   "outputs": [],
   "source": [
    "import folium\n",
    "from IPython.display import display"
   ]
  },
  {
   "cell_type": "code",
   "execution_count": 256,
   "id": "c4e7b63b",
   "metadata": {},
   "outputs": [],
   "source": [
    "map = folium.Map(location = places[2][1]['location'], zoom_start = 14)\n",
    "folium.Marker(places[2][1]['location'], tooltip='spot1').add_to(map)\n",
    "folium.Marker(places[4][1]['location'], tooltip='spot2').add_to(map)\n",
    "\n",
    "folium.PolyLine(path_coords, color = 'purple', weight = 3).add_to(map)\n",
    "map.save('route.html')"
   ]
  },
  {
   "cell_type": "markdown",
   "id": "5b69b7b3",
   "metadata": {},
   "source": [
    "## **Put it all together**"
   ]
  },
  {
   "cell_type": "code",
   "execution_count": null,
   "id": "53b0e783",
   "metadata": {},
   "outputs": [],
   "source": [
    "import osmnx as ox\n",
    "import read\n",
    "\n",
    "places = read.get_exif_data('alaska') #5087, 5100 are in sitka\n",
    "map = folium.Map(location = places[0][1]['location'], zoom_start = 14)\n",
    "\n",
    "for i in range(len(places) - 1):\n",
    "    orig = places[i][1]['location'] #(lat, long)\n",
    "    dest = places[i+1][1]['location'] #(lat,long)\n",
    "    img_name = places[i][0]\n",
    "    date = places[i][1]['time']\n",
    "\n",
    "    folium.Marker(orig, \n",
    "                  tooltip = f'{img_name}\\n{date}').add_to(map)\n",
    "    \n",
    "    lat_mid = (orig[0] + dest[0]) / 2\n",
    "    lon_mid = (orig[1] + dest[1]) / 2\n",
    "    try:\n",
    "        buffer = 0.01\n",
    "        north = max(orig[0],dest[0]) + 0.01\n",
    "        south = min(orig[0],dest[0]) + 0.01\n",
    "        east = max(orig[1],dest[1]) + 0.01\n",
    "        west = min(orig[1],dest[1]) + 0.01\n",
    "\n",
    "        G = ox.graph_from_point((lat_mid, lon_mid), dist=10000, network_type='all')\n",
    "        \n",
    "        #find nearest node, switch lat & long\n",
    "        orig_node = ox.nearest_nodes(G, orig[1], orig[0])\n",
    "        dest_node = ox.nearest_nodes(G, dest[1], dest[0])\n",
    "\n",
    "        sp = ox.shortest_path(G, orig_node, dest_node, weight = 'length')\n",
    "\n",
    "        path_coords = [(G.nodes[n]['y'], G.nodes[n]['x']) for n in sp]\n",
    "        \n",
    "        if path_coords[0] != orig:\n",
    "            folium.PolyLine((orig, path_coords[0]), \n",
    "                        color = 'purple', \n",
    "                        weight = 3).add_to(map)\n",
    "            \n",
    "        folium.PolyLine(path_coords, \n",
    "                        color = 'purple', \n",
    "                        weight = 3).add_to(map)\n",
    "        \n",
    "        if path_coords[-1] != dest:\n",
    "            folium.PolyLine((path_coords[-1], dest), \n",
    "                        color = 'purple', \n",
    "                        weight = 3).add_to(map)\n",
    "        \n",
    "\n",
    "    except:\n",
    "        folium.PolyLine(locations = [orig, dest], \n",
    "                        color = 'purple', \n",
    "                        weight=3).add_to(map)\n",
    "\n",
    "folium.Marker(\n",
    "    location = places[-1][1]['location'],\n",
    "    tooltip= f'{img_name}\\n{date}').add_to(map)\n",
    "\n",
    "map.save('maps/testmap2.html')\n"
   ]
  },
  {
   "cell_type": "markdown",
   "id": "702f1bca",
   "metadata": {},
   "source": [
    "## **Pydeck**"
   ]
  },
  {
   "cell_type": "code",
   "execution_count": 26,
   "id": "0eea7966",
   "metadata": {},
   "outputs": [],
   "source": [
    "import pydeck as pdk\n",
    "import read\n",
    "\n",
    "data = read.get_exif_data('alaska')"
   ]
  },
  {
   "cell_type": "code",
   "execution_count": 27,
   "id": "702bf2a3",
   "metadata": {},
   "outputs": [],
   "source": [
    "lat = data[0][1]['location'][0]\n",
    "lon = data[0][1]['location'][1]\n",
    "\n",
    "url = 'https://static.wikia.nocookie.net/nicos-nextbots-fanmade/images/1/14/Beanos.png/revision/latest?cb=20230728052146'"
   ]
  },
  {
   "cell_type": "code",
   "execution_count": 32,
   "id": "d503cffb",
   "metadata": {},
   "outputs": [],
   "source": [
    "\n",
    "photos = [{'lat':lat, 'lon':lon, 'icon' : 'beanos'}]\n",
    "\n",
    "icon_mapping = {\n",
    "    'beanos':{\n",
    "        'url' : url,\n",
    "        'width' : 128,\n",
    "        'height' : 128,\n",
    "        'anchorY' : 128\n",
    "    }\n",
    "}\n",
    "\n",
    "icon_layer = pdk.Layer(\n",
    "    'IconLayer',\n",
    "    data = photos,\n",
    "    get_icon = 'icon',\n",
    "    get_size = 4,\n",
    "    size_scale = 15,\n",
    "    icon_mapping = icon_mapping,\n",
    "    pickable = True\n",
    ")"
   ]
  },
  {
   "cell_type": "code",
   "execution_count": 43,
   "id": "7864b04a",
   "metadata": {},
   "outputs": [],
   "source": [
    "view_state = pdk.ViewState(latitude = lat, \n",
    "                           longitude= lon, \n",
    "                           zoom=2\n",
    "                           )\n",
    "\n",
    "view = pdk.View(type='MapView', \n",
    "                #projection = 'globe', \n",
    "                controller = True)"
   ]
  },
  {
   "cell_type": "code",
   "execution_count": null,
   "id": "77a522af",
   "metadata": {},
   "outputs": [],
   "source": [
    "deck = pdk.Deck(\n",
    "    views = [view],\n",
    "    layers = [icon_layer],\n",
    "    initial_view_state= view_state,\n",
    "    map_provider=None,\n",
    "    #map_style= 'mapbox://styles/mapbox/dark-v10'\n",
    ")\n",
    "deck.to_html('globe.html', css_background_color = 'black')"
   ]
  },
  {
   "cell_type": "code",
   "execution_count": null,
   "id": "a835a004",
   "metadata": {},
   "outputs": [],
   "source": [
    "\"\"\"\n",
    "GlobeView\n",
    "=========\n",
    "\n",
    "Over 33,000 power plants of the world plotted by their production capacity (given by height)\n",
    "and fuel type (green if renewable) on an experimental deck.gl GlobeView.\n",
    "\"\"\"\n",
    "import pydeck as pdk\n",
    "import pandas as pd\n",
    "\n",
    "COUNTRIES = \"basemap.geojson\"\n",
    "POWER_PLANTS = \"plants.csv\"\n",
    "\n",
    "df = pd.read_csv(POWER_PLANTS)\n",
    "\n",
    "\n",
    "def is_green(fuel_type):\n",
    "    \"\"\"Return a green RGB value if a facility uses a renewable fuel type\"\"\"\n",
    "    if fuel_type.lower() in (\"nuclear\", \"water\", \"wind\", \"hydro\", \"biomass\", \"solar\", \"geothermal\"):\n",
    "        return [10, 230, 120]\n",
    "    return [230, 158, 10]\n",
    "\n",
    "\n",
    "df[\"color\"] = df[\"primary_fuel\"].apply(is_green)\n",
    "\n",
    "view_state = pdk.ViewState(latitude=51.47, longitude=0.45, zoom=0, max_zoom=20)\n",
    "\n",
    "# Set height and width variables\n",
    "view = pdk.View(type=\"_GlobeView\", controller=True, width=1000, height=700)\n",
    "\n",
    "\n",
    "layers = [\n",
    "    pdk.Layer(\n",
    "        \"GeoJsonLayer\",\n",
    "        id=\"base-map\",\n",
    "        data=COUNTRIES,\n",
    "        stroked=False,\n",
    "        filled=True,\n",
    "        get_fill_color=[200, 200, 200],\n",
    "    ),\n",
    "    pdk.Layer(\n",
    "        \"ColumnLayer\",\n",
    "        id=\"power-plant\",\n",
    "        data=df,\n",
    "        get_elevation=\"capacity_mw\",\n",
    "        get_position=[\"longitude\", \"latitude\"],\n",
    "        elevation_scale=100,\n",
    "        pickable=True,\n",
    "        auto_highlight=True,\n",
    "        radius=20000,\n",
    "        get_fill_color=\"color\",\n",
    "    ),\n",
    "]\n",
    "\n",
    "earth = pdk.Layer(\n",
    "    \"GeoJsonLayer\",\n",
    "    data=\"https://raw.githubusercontent.com/nvkelso/natural-earth-vector/master/geojson/ne_110m_admin_0_countries.geojson\",\n",
    "    stroked=False,\n",
    "    filled=True,\n",
    "    get_fill_color=[180, 180, 180],\n",
    "    get_line_color=[100, 100, 100],\n",
    ")\n",
    "\n",
    "\n",
    "deck = pdk.Deck(\n",
    "    views=[view],\n",
    "    initial_view_state=view_state,\n",
    "    tooltip={\"text\": \"{name}, {primary_fuel} plant, {country}\"},\n",
    "    layers= [earth] + layers,\n",
    "    map_provider=None,\n",
    "    # Note that this must be set for the globe to be opaque\n",
    "    parameters={\"cull\": True},\n",
    ")\n",
    "\n",
    "deck.to_html(\"globe_view.html\", css_background_color=\"black\")"
   ]
  },
  {
   "cell_type": "markdown",
   "id": "ec9d9e00",
   "metadata": {},
   "source": [
    "## **Flat Map w/ PyDeck**"
   ]
  },
  {
   "cell_type": "code",
   "execution_count": 100,
   "id": "fb575ba8",
   "metadata": {},
   "outputs": [
    {
     "data": {
      "text/plain": [
       "'seattleairport.JPG'"
      ]
     },
     "execution_count": 100,
     "metadata": {},
     "output_type": "execute_result"
    }
   ],
   "source": [
    "import osmnx as ox\n",
    "import read\n",
    "import pandas as pd \n",
    "\n",
    "raw = read.get_exif_data('alaska') #5087, 5100 are in sitka\n",
    "places = []\n",
    "for fname, meta in raw:\n",
    "    lat, lon = meta['location']\n",
    "    places.append({\n",
    "        'filename' : fname,\n",
    "        'lat' : lat,\n",
    "        'lon' : lon,\n",
    "        'time' : meta['time'],\n",
    "        'path' : meta['path']\n",
    "    })\n",
    "raw[1][1]['path']"
   ]
  },
  {
   "cell_type": "code",
   "execution_count": null,
   "id": "fecb56fc",
   "metadata": {},
   "outputs": [],
   "source": [
    "layer = pdk.Layer(\n",
    "    type = 'ScatterplotLayer',\n",
    "    data = df,\n",
    "    pickable = True,\n",
    "    opacity = 0.8,\n",
    "    stroked = True,\n",
    "    filled = True,\n",
    "    radius_scale = 6,\n",
    "    radius_min_pixels = 1,\n",
    "    radius_max_pixels = 3,\n",
    "    get_position = ['lon', 'lat'],\n",
    "    get_radius = 5000,\n",
    "    get_fill_color = [255, 0, 0],\n",
    ")\n",
    "\n",
    "view_state = pdk.ViewState(latitude = raw[0][1]['location'][0], longitude= raw[0][1]['location'][1], zoom = 10, bearing = 0, pitch = 0)"
   ]
  },
  {
   "cell_type": "code",
   "execution_count": null,
   "id": "73df8380",
   "metadata": {},
   "outputs": [],
   "source": [
    "r = pdk.Deck(layers = [layer], \n",
    "             initial_view_state= view_state, \n",
    "             map_style= 'mapbox://styles/mapbox/standard-satellite',\n",
    "             map_provider = 'mapbox'\n",
    "             )\n",
    "r.to_html('pydeck.html')"
   ]
  },
  {
   "cell_type": "code",
   "execution_count": null,
   "id": "00acbbf9",
   "metadata": {},
   "outputs": [],
   "source": [
    "map = folium.Map(location = places[0][1]['location'], zoom_start = 14)\n",
    "\n",
    "for i in range(len(places) - 1):\n",
    "    orig = places[i][1]['location'] #(lat, long)\n",
    "    dest = places[i+1][1]['location'] #(lat,long)\n",
    "    img_name = places[i][0]\n",
    "    date = places[i][1]['time']\n",
    "\n",
    "    folium.Marker(orig, \n",
    "                  tooltip = f'{img_name}\\n{date}').add_to(map)\n",
    "    \n",
    "    lat_mid = (orig[0] + dest[0]) / 2\n",
    "    lon_mid = (orig[1] + dest[1]) / 2\n",
    "    try:\n",
    "        buffer = 0.01\n",
    "        north = max(orig[0],dest[0]) + 0.01\n",
    "        south = min(orig[0],dest[0]) + 0.01\n",
    "        east = max(orig[1],dest[1]) + 0.01\n",
    "        west = min(orig[1],dest[1]) + 0.01\n",
    "\n",
    "        G = ox.graph_from_point((lat_mid, lon_mid), dist=10000, network_type='all')\n",
    "        \n",
    "        #find nearest node, switch lat & long\n",
    "        orig_node = ox.nearest_nodes(G, orig[1], orig[0])\n",
    "        dest_node = ox.nearest_nodes(G, dest[1], dest[0])\n",
    "\n",
    "        sp = ox.shortest_path(G, orig_node, dest_node, weight = 'length')\n",
    "\n",
    "        path_coords = [(G.nodes[n]['y'], G.nodes[n]['x']) for n in sp]\n",
    "        \n",
    "        if path_coords[0] != orig:\n",
    "            folium.PolyLine((orig, path_coords[0]), \n",
    "                        color = 'purple', \n",
    "                        weight = 3).add_to(map)\n",
    "            \n",
    "        folium.PolyLine(path_coords, \n",
    "                        color = 'purple', \n",
    "                        weight = 3).add_to(map)\n",
    "        \n",
    "        if path_coords[-1] != dest:\n",
    "            folium.PolyLine((path_coords[-1], dest), \n",
    "                        color = 'purple', \n",
    "                        weight = 3).add_to(map)\n",
    "        \n",
    "\n",
    "    except:\n",
    "        folium.PolyLine(locations = [orig, dest], \n",
    "                        color = 'purple', \n",
    "                        weight=3).add_to(map)\n",
    "\n",
    "folium.Marker(\n",
    "    location = places[-1][1]['location'],\n",
    "    tooltip= f'{img_name}\\n{date}').add_to(map)\n",
    "\n",
    "map.save('maps/testmap2.html')\n"
   ]
  }
 ],
 "metadata": {
  "kernelspec": {
   "display_name": "Python 3.12",
   "language": "python",
   "name": "py312"
  },
  "language_info": {
   "codemirror_mode": {
    "name": "ipython",
    "version": 3
   },
   "file_extension": ".py",
   "mimetype": "text/x-python",
   "name": "python",
   "nbconvert_exporter": "python",
   "pygments_lexer": "ipython3",
   "version": "3.12.0"
  }
 },
 "nbformat": 4,
 "nbformat_minor": 5
}
